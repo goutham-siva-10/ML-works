{
 "cells": [
  {
   "cell_type": "markdown",
   "id": "cc950bee-2d16-4fa3-a404-a0bbc898d354",
   "metadata": {},
   "source": [
    "## LAB 10 - SVM FOR NON VECTORIAL DATA (03.03.2025)"
   ]
  },
  {
   "cell_type": "markdown",
   "id": "0524cd13-4d90-46cb-9a93-e215bd1f2dbf",
   "metadata": {},
   "source": [
    "## AIM\n",
    "To apply SVM classifier to the `fetch_20newsgroups`, which is a non vectorial data (text), and evaluate the model's perfomance using `classification_report`. "
   ]
  },
  {
   "cell_type": "markdown",
   "id": "671e1eb3-9442-4b55-9671-e6eed854f003",
   "metadata": {},
   "source": [
    "## ALGORITHM\n",
    "\n",
    "1. **Load Data:**\n",
    "   - Download the `20 Newsgroups` dataset using `fetch_20newsgroups`.\n",
    "   - The dataset consists of text documents and their associated category labels.\n",
    "   - Display the first few rows of the dataset with raw text and corresponding labels using a `DataFrame` for better understanding.\n",
    "\n",
    "2. **Preprocess Data:**\n",
    "   - Convert all text to lowercase to remove case sensitivity.\n",
    "   - Remove special characters, numbers, and punctuation using regular expressions.\n",
    "   - Tokenize the text (split into words).\n",
    "   - Remove stopwords (common words like \"the\", \"is\", \"and\", etc., which are not useful for classification).\n",
    "   - Apply lemmatization (convert words to their base form).\n",
    "   - Join the processed tokens back into clean, preprocessed text.\n",
    "\n",
    "3. **Split Data:**\n",
    "   - Split the dataset into training and testing sets (e.g., 70% for training and 30% for testing).\n",
    "\n",
    "4. **Vectorize Data:**\n",
    "   - Convert the preprocessed text data into numerical form using `TfidfVectorizer`.\n",
    "   - This step transforms the raw text into TF-IDF features (with a limit of 5000 features).\n",
    "   \n",
    "5. **Train SVM:**\n",
    "   - Create an `SVC` (Support Vector Classifier) model with the `linear` kernel.\n",
    "   - Train the SVM model on the preprocessed training data using `svm.fit(X_train, y_train)`.\n",
    "\n",
    "6. **Make Predictions:**\n",
    "   - Use the trained model to predict the labels for the test data using `svm.predict(X_test)`.\n",
    "\n",
    "7. **Evaluate Model:**\n",
    "   - Evaluate the model’s performance using `classification_report(y_test, y_pred)`, which provides metrics like precision, recall, f1-score, and accuracy for each class.\n",
    "   - Print the overall accuracy of the classifier."
   ]
  },
  {
   "cell_type": "markdown",
   "id": "23643c87-3170-47ad-8701-509b34c691a3",
   "metadata": {},
   "source": [
    "### Non-Vectorial Data:\n",
    "Non-vectorial data refers to data that isn't already in a numerical vector form, such as raw text, audio, images, or time-series data. These types of data need to be transformed into numerical representations (vectors) before they can be used by machine learning algorithms like Support Vector Machines (SVM).\n",
    "\n",
    "### Using SVM for Non-Vectorial Data:\n",
    "1. **Preprocessing**: The non-vectorial data (e.g., text) is first preprocessed to clean and convert it into a suitable format (e.g., tokenization, removing stopwords, lemmatization).\n",
    "2. **Feature Extraction**: Techniques like **TF-IDF** (for text) or other feature extraction methods  are used to transform the data into numerical vectors.\n",
    "3. **Training the SVM**: The extracted feature vectors are then used to train the **SVM** model. The SVM tries to find the optimal hyperplane that best separates different classes in the data, based on the feature vectors.\n",
    "4. **Prediction**: Once the model is trained, it can predict labels for new, unseen data by converting it to the same vector format and passing it through the trained SVM."
   ]
  },
  {
   "cell_type": "markdown",
   "id": "2719065e-7e4f-4f0c-bd9f-8b6700dd59a9",
   "metadata": {},
   "source": [
    "## CODE AND OUTPUT"
   ]
  },
  {
   "cell_type": "code",
   "execution_count": 8,
   "id": "b4aabe96-40a8-4e23-8e9b-49f4af07d71c",
   "metadata": {},
   "outputs": [],
   "source": [
    "from sklearn.datasets import fetch_20newsgroups\n",
    "\n",
    "newsgroups = fetch_20newsgroups(subset='all', remove=('headers', 'footers', 'quotes'))"
   ]
  },
  {
   "cell_type": "code",
   "execution_count": 16,
   "id": "9261e844-87c6-41ac-8757-05665c2efd8d",
   "metadata": {},
   "outputs": [
    {
     "name": "stderr",
     "output_type": "stream",
     "text": [
      "[nltk_data] Downloading package stopwords to /home/ai-a1/nltk_data...\n",
      "[nltk_data]   Unzipping corpora/stopwords.zip.\n",
      "[nltk_data] Downloading package wordnet to /home/ai-a1/nltk_data...\n"
     ]
    }
   ],
   "source": [
    "import nltk\n",
    "import re\n",
    "from nltk.corpus import stopwords\n",
    "from nltk.stem import WordNetLemmatizer\n",
    "\n",
    "nltk.download('stopwords')\n",
    "nltk.download('wordnet')\n",
    "\n",
    "def preprocess_text(text):\n",
    "    text = text.lower()\n",
    "\n",
    "    text = re.sub(r'[^a-z\\s]', '', text)\n",
    "\n",
    "    stop_words = set(stopwords.words('english'))\n",
    "    tokens = text.split()\n",
    "    tokens = [word for word in tokens if word not in stop_words]\n",
    "\n",
    "    lemmatizer = WordNetLemmatizer()\n",
    "    tokens = [lemmatizer.lemmatize(word) for word in tokens]\n",
    "\n",
    "    return ' '.join(tokens)\n",
    "\n",
    "processed_text = [preprocess_text(text) for text in newsgroups.data]"
   ]
  },
  {
   "cell_type": "code",
   "execution_count": 17,
   "id": "671c512a-ef70-47c5-9afb-aecb49f9c9e5",
   "metadata": {},
   "outputs": [
    {
     "data": {
      "text/html": [
       "<div>\n",
       "<style scoped>\n",
       "    .dataframe tbody tr th:only-of-type {\n",
       "        vertical-align: middle;\n",
       "    }\n",
       "\n",
       "    .dataframe tbody tr th {\n",
       "        vertical-align: top;\n",
       "    }\n",
       "\n",
       "    .dataframe thead th {\n",
       "        text-align: right;\n",
       "    }\n",
       "</style>\n",
       "<table border=\"1\" class=\"dataframe\">\n",
       "  <thead>\n",
       "    <tr style=\"text-align: right;\">\n",
       "      <th></th>\n",
       "      <th>Text</th>\n",
       "      <th>Label</th>\n",
       "      <th>Category</th>\n",
       "    </tr>\n",
       "  </thead>\n",
       "  <tbody>\n",
       "    <tr>\n",
       "      <th>0</th>\n",
       "      <td>sure bashers pen fan pretty confused lack kind...</td>\n",
       "      <td>10</td>\n",
       "      <td>rec.sport.hockey</td>\n",
       "    </tr>\n",
       "    <tr>\n",
       "      <th>1</th>\n",
       "      <td>brother market highperformance video card supp...</td>\n",
       "      <td>3</td>\n",
       "      <td>comp.sys.ibm.pc.hardware</td>\n",
       "    </tr>\n",
       "    <tr>\n",
       "      <th>2</th>\n",
       "      <td>finally said dream mediterranean new area grea...</td>\n",
       "      <td>17</td>\n",
       "      <td>talk.politics.mideast</td>\n",
       "    </tr>\n",
       "    <tr>\n",
       "      <th>3</th>\n",
       "      <td>think scsi card dma transfer disk scsi card dm...</td>\n",
       "      <td>3</td>\n",
       "      <td>comp.sys.ibm.pc.hardware</td>\n",
       "    </tr>\n",
       "    <tr>\n",
       "      <th>4</th>\n",
       "      <td>old jasmine drive cannot use new system unders...</td>\n",
       "      <td>4</td>\n",
       "      <td>comp.sys.mac.hardware</td>\n",
       "    </tr>\n",
       "  </tbody>\n",
       "</table>\n",
       "</div>"
      ],
      "text/plain": [
       "                                                Text  Label  \\\n",
       "0  sure bashers pen fan pretty confused lack kind...     10   \n",
       "1  brother market highperformance video card supp...      3   \n",
       "2  finally said dream mediterranean new area grea...     17   \n",
       "3  think scsi card dma transfer disk scsi card dm...      3   \n",
       "4  old jasmine drive cannot use new system unders...      4   \n",
       "\n",
       "                   Category  \n",
       "0          rec.sport.hockey  \n",
       "1  comp.sys.ibm.pc.hardware  \n",
       "2     talk.politics.mideast  \n",
       "3  comp.sys.ibm.pc.hardware  \n",
       "4     comp.sys.mac.hardware  "
      ]
     },
     "execution_count": 17,
     "metadata": {},
     "output_type": "execute_result"
    }
   ],
   "source": [
    "import pandas as pd\n",
    "df = pd.DataFrame({\n",
    "    'Text': processed_text,    \n",
    "    'Label': newsgroups.target,\n",
    "})\n",
    "\n",
    "df['Category'] = df['Label'].apply(lambda x: newsgroups.target_names[x])\n",
    "df.head()"
   ]
  },
  {
   "cell_type": "code",
   "execution_count": 19,
   "id": "b2484706-ebbd-4678-8643-73d7069d530c",
   "metadata": {},
   "outputs": [],
   "source": [
    "from sklearn.feature_extraction.text import TfidfVectorizer\n",
    "vectorizer = TfidfVectorizer(stop_words='english', max_features=5000)\n",
    "\n",
    "X = vectorizer.fit_transform(df['Text'])\n",
    "y = df['Label']"
   ]
  },
  {
   "cell_type": "code",
   "execution_count": 21,
   "id": "d7870923-7020-4aa0-b483-e5383f0ca10b",
   "metadata": {},
   "outputs": [],
   "source": [
    "from sklearn.model_selection import train_test_split\n",
    "from sklearn.svm import SVC\n",
    "from sklearn.metrics import classification_report\n",
    "from sklearn.preprocessing import StandardScaler\n",
    "on the wine dataset\n",
    "X_train, X_test, y_train, y_test = train_test_split(X, y, test_size=0.3, random_state=42)"
   ]
  },
  {
   "cell_type": "code",
   "execution_count": 26,
   "id": "98733842-04c2-4f07-a58d-ddf01d67e997",
   "metadata": {},
   "outputs": [],
   "source": [
    "svm = SVC(kernel='rbf')\n",
    "\n",
    "svm.fit(X_train, y_train)\n",
    "\n",
    "y_pred = svm.predict(X_test)"
   ]
  },
  {
   "cell_type": "code",
   "execution_count": 27,
   "id": "b7282a8d-08cd-4b88-9bf7-dbf526cacd4d",
   "metadata": {},
   "outputs": [
    {
     "name": "stdout",
     "output_type": "stream",
     "text": [
      "Classification Report:\n",
      "                          precision    recall  f1-score   support\n",
      "\n",
      "             alt.atheism       0.57      0.61      0.59       236\n",
      "           comp.graphics       0.56      0.68      0.61       287\n",
      " comp.os.ms-windows.misc       0.67      0.61      0.64       290\n",
      "comp.sys.ibm.pc.hardware       0.61      0.64      0.62       285\n",
      "   comp.sys.mac.hardware       0.78      0.60      0.68       312\n",
      "          comp.windows.x       0.78      0.72      0.75       308\n",
      "            misc.forsale       0.76      0.65      0.70       276\n",
      "               rec.autos       0.49      0.75      0.59       304\n",
      "         rec.motorcycles       0.59      0.77      0.67       279\n",
      "      rec.sport.baseball       0.89      0.81      0.85       308\n",
      "        rec.sport.hockey       0.97      0.84      0.90       309\n",
      "               sci.crypt       0.90      0.70      0.79       290\n",
      "         sci.electronics       0.57      0.67      0.62       304\n",
      "                 sci.med       0.80      0.80      0.80       300\n",
      "               sci.space       0.70      0.78      0.74       297\n",
      "  soc.religion.christian       0.70      0.78      0.74       292\n",
      "      talk.politics.guns       0.65      0.73      0.69       270\n",
      "   talk.politics.mideast       0.87      0.71      0.78       272\n",
      "      talk.politics.misc       0.65      0.59      0.62       239\n",
      "      talk.religion.misc       0.56      0.21      0.30       196\n",
      "\n",
      "                accuracy                           0.69      5654\n",
      "               macro avg       0.70      0.68      0.68      5654\n",
      "            weighted avg       0.71      0.69      0.69      5654\n",
      "\n"
     ]
    }
   ],
   "source": [
    "print(\"Classification Report:\")\n",
    "print(classification_report(y_test, y_pred, target_names=newsgroups.target_names))"
   ]
  },
  {
   "cell_type": "markdown",
   "id": "37b14817-33d5-4da1-b314-496c2366dea0",
   "metadata": {},
   "source": [
    "## RESULT"
   ]
  },
  {
   "cell_type": "markdown",
   "id": "c75d72e4-f0b4-4f03-b498-a3d4c4784965",
   "metadata": {},
   "source": [
    "A SVM classifier has been trained with an average accuracy of 70%."
   ]
  }
 ],
 "metadata": {
  "kernelspec": {
   "display_name": "Python 3 (ipykernel)",
   "language": "python",
   "name": "python3"
  },
  "language_info": {
   "codemirror_mode": {
    "name": "ipython",
    "version": 3
   },
   "file_extension": ".py",
   "mimetype": "text/x-python",
   "name": "python",
   "nbconvert_exporter": "python",
   "pygments_lexer": "ipython3",
   "version": "3.11.7"
  }
 },
 "nbformat": 4,
 "nbformat_minor": 5
}
