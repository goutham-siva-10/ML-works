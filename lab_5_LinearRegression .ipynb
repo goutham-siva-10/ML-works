{
 "cells": [
  {
   "cell_type": "markdown",
   "id": "887b004f-5f29-4c16-a501-876b8dc55ce3",
   "metadata": {},
   "source": [
    "## LAB 5 - LINEAR REGRESSION ON 2D AND MULTI-DIMENSIONAL DATASETS (25.01.25)"
   ]
  },
  {
   "cell_type": "markdown",
   "id": "8a60a755-4566-44ec-8016-4939b43a757c",
   "metadata": {},
   "source": [
    "## AIM\n",
    "To apply Linear Regression on a 2D datasetand multi-dimensional dataset (both using make_regression) and compare their results."
   ]
  },
  {
   "cell_type": "markdown",
   "id": "925c7a5a-fbce-4673-bb51-316ee7fc3b92",
   "metadata": {},
   "source": [
    "## ALGORITHM 1 (make_regression dataset for two-dimensional data)\n",
    "1. **Import necessary modules and make the 2D Dataset**\n",
    "   \n",
    "- Import all the modules needed to acclomplish the task.\n",
    "- Generates a synthetic regression dataset with 100 samples, 2 features, and added noise of 10 to make the task more realistic, with a fixed random seed for reproducibility.\n",
    "\n",
    "2. **Create a data frame**\n",
    "   \n",
    "Make the dataset into a DataFrame, including the target variable for clear understanding.\n",
    "\n",
    "3. **Perform initial data exploration**\n",
    "   \n",
    "Describe the data and get information on it. Check if any of the features have missing values.\n",
    "\n",
    "4. **Apply train_test_split to split data into training and testing subsets**\n",
    "- Training data: Used to train the model.\n",
    "- Testing data: Used to evaluate the model's performance. Use a split ratio, e.g., 60% for training and 40% for testing.\n",
    "\n",
    "5. **Train the model**\n",
    "   \n",
    "Initialize a Linear Regression model to make predictions. After that apply the fit method to train it.\n",
    "\n",
    "6. **Make predictions**\n",
    "\n",
    "- Make predictions to find the r2 score (the proportion of the variance in the dependent variable that is explained by the independent variable(s) in a regression model) and mean squared error of the test set with respect to the training set.\n",
    "- Display their values"
   ]
  },
  {
   "cell_type": "markdown",
   "id": "a5be694e-90a9-4424-9993-5a7c83728f2e",
   "metadata": {},
   "source": [
    "\n",
    "## ALGORITHM 2 (make_regression dataset for multi-dimensional data)\n",
    "1. **Make the Multi-Dimensional Dataset**\n",
    "   \n",
    "- The modules to be imported are present in the beginning\n",
    "- Generates a synthetic regression dataset with 100 samples, 10 features, and added noise of 10 to make the task more realistic, with a fixed random seed for reproducibility.\n",
    "\n",
    "2. **Create a data frame**\n",
    "   \n",
    "Make the dataset into a DataFrame, including the target variable for clear understanding.\n",
    "\n",
    "3. **Perform initial Data exploration**\n",
    "   \n",
    "Describe the data and get information on it. Check if any of the features have missing values.\n",
    "\n",
    "4. **Apply train_test_split to split data into training and testing subsets**\n",
    "- Training data: Used to train the model.\n",
    "- Testing data: Used to evaluate the model's performance. Use a split ratio, e.g., 60% for training and 40% for testing.\n",
    "\n",
    "5. **Train the model**\n",
    "   \n",
    "Initialize a Linear Regression model to make predictions. After that apply the fit method to train it.\n",
    "\n",
    "6. **Make predictions**\n",
    "\n",
    "- Make predictions to find the r2 score (the proportion of the variance in the dependent variable that is explained by the independent variable(s) in a regression model) and mean squared errorof the test set with respect to the training set.\n",
    "- Display their values\n"
   ]
  },
  {
   "cell_type": "markdown",
   "id": "51b6215d-2086-4ac0-b940-f81f3960ba25",
   "metadata": {},
   "source": [
    "## DESCRIPTION\n",
    "Linear regression is a supervised learning algorithm used for predicting a continuous target variable (y) based on one or more input features (X). It assumes a linear relationship between the input features and the target variable"
   ]
  },
  {
   "cell_type": "markdown",
   "id": "3df568f0-fce8-4bc9-880c-741bf2530a29",
   "metadata": {},
   "source": [
    "## CODE AND OUTPUT"
   ]
  },
  {
   "cell_type": "code",
   "execution_count": 2,
   "id": "5d746350-8c86-407c-98b6-b0d1bd6c7bb0",
   "metadata": {},
   "outputs": [],
   "source": [
    "import pandas as pd\n",
    "import numpy as np\n",
    "from sklearn.datasets import make_regression\n",
    "from sklearn.linear_model import LinearRegression\n",
    "from sklearn.metrics import r2_score,mean_squared_error\n",
    "from sklearn.model_selection import train_test_split\n",
    "import matplotlib.pyplot as plt"
   ]
  },
  {
   "cell_type": "code",
   "execution_count": 3,
   "id": "f7d4fe1f-0ee5-4a4f-b277-c3997b8f0a76",
   "metadata": {},
   "outputs": [],
   "source": [
    "X, y = make_regression(n_samples=100, noise=10, n_features=2, random_state=42)"
   ]
  },
  {
   "cell_type": "code",
   "execution_count": 4,
   "id": "2f63540a-1020-4f30-8a05-ae7490a98772",
   "metadata": {},
   "outputs": [
    {
     "data": {
      "text/html": [
       "<div>\n",
       "<style scoped>\n",
       "    .dataframe tbody tr th:only-of-type {\n",
       "        vertical-align: middle;\n",
       "    }\n",
       "\n",
       "    .dataframe tbody tr th {\n",
       "        vertical-align: top;\n",
       "    }\n",
       "\n",
       "    .dataframe thead th {\n",
       "        text-align: right;\n",
       "    }\n",
       "</style>\n",
       "<table border=\"1\" class=\"dataframe\">\n",
       "  <thead>\n",
       "    <tr style=\"text-align: right;\">\n",
       "      <th></th>\n",
       "      <th>X1</th>\n",
       "      <th>X2</th>\n",
       "      <th>y</th>\n",
       "    </tr>\n",
       "  </thead>\n",
       "  <tbody>\n",
       "    <tr>\n",
       "      <th>0</th>\n",
       "      <td>-1.191303</td>\n",
       "      <td>0.656554</td>\n",
       "      <td>-49.265023</td>\n",
       "    </tr>\n",
       "    <tr>\n",
       "      <th>1</th>\n",
       "      <td>0.058209</td>\n",
       "      <td>-1.142970</td>\n",
       "      <td>-85.162387</td>\n",
       "    </tr>\n",
       "    <tr>\n",
       "      <th>2</th>\n",
       "      <td>0.586857</td>\n",
       "      <td>2.190456</td>\n",
       "      <td>211.225658</td>\n",
       "    </tr>\n",
       "    <tr>\n",
       "      <th>3</th>\n",
       "      <td>0.473238</td>\n",
       "      <td>-0.072829</td>\n",
       "      <td>29.196562</td>\n",
       "    </tr>\n",
       "    <tr>\n",
       "      <th>4</th>\n",
       "      <td>0.738467</td>\n",
       "      <td>0.171368</td>\n",
       "      <td>84.348096</td>\n",
       "    </tr>\n",
       "    <tr>\n",
       "      <th>...</th>\n",
       "      <td>...</td>\n",
       "      <td>...</td>\n",
       "      <td>...</td>\n",
       "    </tr>\n",
       "    <tr>\n",
       "      <th>95</th>\n",
       "      <td>0.361396</td>\n",
       "      <td>1.538037</td>\n",
       "      <td>147.505343</td>\n",
       "    </tr>\n",
       "    <tr>\n",
       "      <th>96</th>\n",
       "      <td>0.296120</td>\n",
       "      <td>0.261055</td>\n",
       "      <td>32.710111</td>\n",
       "    </tr>\n",
       "    <tr>\n",
       "      <th>97</th>\n",
       "      <td>-0.990536</td>\n",
       "      <td>-0.566298</td>\n",
       "      <td>-141.334380</td>\n",
       "    </tr>\n",
       "    <tr>\n",
       "      <th>98</th>\n",
       "      <td>-0.460639</td>\n",
       "      <td>1.057122</td>\n",
       "      <td>48.782598</td>\n",
       "    </tr>\n",
       "    <tr>\n",
       "      <th>99</th>\n",
       "      <td>0.259883</td>\n",
       "      <td>0.781823</td>\n",
       "      <td>70.901315</td>\n",
       "    </tr>\n",
       "  </tbody>\n",
       "</table>\n",
       "<p>100 rows × 3 columns</p>\n",
       "</div>"
      ],
      "text/plain": [
       "          X1        X2           y\n",
       "0  -1.191303  0.656554  -49.265023\n",
       "1   0.058209 -1.142970  -85.162387\n",
       "2   0.586857  2.190456  211.225658\n",
       "3   0.473238 -0.072829   29.196562\n",
       "4   0.738467  0.171368   84.348096\n",
       "..       ...       ...         ...\n",
       "95  0.361396  1.538037  147.505343\n",
       "96  0.296120  0.261055   32.710111\n",
       "97 -0.990536 -0.566298 -141.334380\n",
       "98 -0.460639  1.057122   48.782598\n",
       "99  0.259883  0.781823   70.901315\n",
       "\n",
       "[100 rows x 3 columns]"
      ]
     },
     "execution_count": 4,
     "metadata": {},
     "output_type": "execute_result"
    }
   ],
   "source": [
    "df = pd.DataFrame(X,columns=[\"X1\",\"X2\"])\n",
    "df[\"y\"]=y\n",
    "df"
   ]
  },
  {
   "cell_type": "code",
   "execution_count": 5,
   "id": "14eba70c-e777-4cbb-b04a-4327096ab699",
   "metadata": {},
   "outputs": [
    {
     "data": {
      "text/plain": [
       "X1    0\n",
       "X2    0\n",
       "y     0\n",
       "dtype: int64"
      ]
     },
     "execution_count": 5,
     "metadata": {},
     "output_type": "execute_result"
    }
   ],
   "source": [
    "df.isnull().sum()"
   ]
  },
  {
   "cell_type": "code",
   "execution_count": 6,
   "id": "77966c31-cb01-4465-9112-bd658bd18474",
   "metadata": {},
   "outputs": [
    {
     "data": {
      "text/html": [
       "<div>\n",
       "<style scoped>\n",
       "    .dataframe tbody tr th:only-of-type {\n",
       "        vertical-align: middle;\n",
       "    }\n",
       "\n",
       "    .dataframe tbody tr th {\n",
       "        vertical-align: top;\n",
       "    }\n",
       "\n",
       "    .dataframe thead th {\n",
       "        text-align: right;\n",
       "    }\n",
       "</style>\n",
       "<table border=\"1\" class=\"dataframe\">\n",
       "  <thead>\n",
       "    <tr style=\"text-align: right;\">\n",
       "      <th></th>\n",
       "      <th>X1</th>\n",
       "      <th>X2</th>\n",
       "      <th>y</th>\n",
       "    </tr>\n",
       "  </thead>\n",
       "  <tbody>\n",
       "    <tr>\n",
       "      <th>count</th>\n",
       "      <td>100.000000</td>\n",
       "      <td>100.000000</td>\n",
       "      <td>100.000000</td>\n",
       "    </tr>\n",
       "    <tr>\n",
       "      <th>mean</th>\n",
       "      <td>-0.115564</td>\n",
       "      <td>0.034022</td>\n",
       "      <td>-7.200842</td>\n",
       "    </tr>\n",
       "    <tr>\n",
       "      <th>std</th>\n",
       "      <td>0.856313</td>\n",
       "      <td>0.998859</td>\n",
       "      <td>106.644219</td>\n",
       "    </tr>\n",
       "    <tr>\n",
       "      <th>min</th>\n",
       "      <td>-2.619745</td>\n",
       "      <td>-1.987569</td>\n",
       "      <td>-201.720972</td>\n",
       "    </tr>\n",
       "    <tr>\n",
       "      <th>25%</th>\n",
       "      <td>-0.722353</td>\n",
       "      <td>-0.662428</td>\n",
       "      <td>-82.623261</td>\n",
       "    </tr>\n",
       "    <tr>\n",
       "      <th>50%</th>\n",
       "      <td>-0.035269</td>\n",
       "      <td>0.132324</td>\n",
       "      <td>-15.972235</td>\n",
       "    </tr>\n",
       "    <tr>\n",
       "      <th>75%</th>\n",
       "      <td>0.348063</td>\n",
       "      <td>0.670915</td>\n",
       "      <td>71.610539</td>\n",
       "    </tr>\n",
       "    <tr>\n",
       "      <th>max</th>\n",
       "      <td>1.886186</td>\n",
       "      <td>2.720169</td>\n",
       "      <td>211.225658</td>\n",
       "    </tr>\n",
       "  </tbody>\n",
       "</table>\n",
       "</div>"
      ],
      "text/plain": [
       "               X1          X2           y\n",
       "count  100.000000  100.000000  100.000000\n",
       "mean    -0.115564    0.034022   -7.200842\n",
       "std      0.856313    0.998859  106.644219\n",
       "min     -2.619745   -1.987569 -201.720972\n",
       "25%     -0.722353   -0.662428  -82.623261\n",
       "50%     -0.035269    0.132324  -15.972235\n",
       "75%      0.348063    0.670915   71.610539\n",
       "max      1.886186    2.720169  211.225658"
      ]
     },
     "execution_count": 6,
     "metadata": {},
     "output_type": "execute_result"
    }
   ],
   "source": [
    "df.describe()"
   ]
  },
  {
   "cell_type": "code",
   "execution_count": 7,
   "id": "274d5503-392e-48a2-bba1-b78dc7f56bc3",
   "metadata": {},
   "outputs": [],
   "source": [
    "X_train,X_test,y_train,y_test = train_test_split(X,y,random_state=42, test_size=0.4)"
   ]
  },
  {
   "cell_type": "code",
   "execution_count": 8,
   "id": "c90d4594-e7f9-4810-bd62-a4eeb05e4db2",
   "metadata": {},
   "outputs": [
    {
     "data": {
      "text/html": [
       "<style>#sk-container-id-1 {color: black;background-color: white;}#sk-container-id-1 pre{padding: 0;}#sk-container-id-1 div.sk-toggleable {background-color: white;}#sk-container-id-1 label.sk-toggleable__label {cursor: pointer;display: block;width: 100%;margin-bottom: 0;padding: 0.3em;box-sizing: border-box;text-align: center;}#sk-container-id-1 label.sk-toggleable__label-arrow:before {content: \"▸\";float: left;margin-right: 0.25em;color: #696969;}#sk-container-id-1 label.sk-toggleable__label-arrow:hover:before {color: black;}#sk-container-id-1 div.sk-estimator:hover label.sk-toggleable__label-arrow:before {color: black;}#sk-container-id-1 div.sk-toggleable__content {max-height: 0;max-width: 0;overflow: hidden;text-align: left;background-color: #f0f8ff;}#sk-container-id-1 div.sk-toggleable__content pre {margin: 0.2em;color: black;border-radius: 0.25em;background-color: #f0f8ff;}#sk-container-id-1 input.sk-toggleable__control:checked~div.sk-toggleable__content {max-height: 200px;max-width: 100%;overflow: auto;}#sk-container-id-1 input.sk-toggleable__control:checked~label.sk-toggleable__label-arrow:before {content: \"▾\";}#sk-container-id-1 div.sk-estimator input.sk-toggleable__control:checked~label.sk-toggleable__label {background-color: #d4ebff;}#sk-container-id-1 div.sk-label input.sk-toggleable__control:checked~label.sk-toggleable__label {background-color: #d4ebff;}#sk-container-id-1 input.sk-hidden--visually {border: 0;clip: rect(1px 1px 1px 1px);clip: rect(1px, 1px, 1px, 1px);height: 1px;margin: -1px;overflow: hidden;padding: 0;position: absolute;width: 1px;}#sk-container-id-1 div.sk-estimator {font-family: monospace;background-color: #f0f8ff;border: 1px dotted black;border-radius: 0.25em;box-sizing: border-box;margin-bottom: 0.5em;}#sk-container-id-1 div.sk-estimator:hover {background-color: #d4ebff;}#sk-container-id-1 div.sk-parallel-item::after {content: \"\";width: 100%;border-bottom: 1px solid gray;flex-grow: 1;}#sk-container-id-1 div.sk-label:hover label.sk-toggleable__label {background-color: #d4ebff;}#sk-container-id-1 div.sk-serial::before {content: \"\";position: absolute;border-left: 1px solid gray;box-sizing: border-box;top: 0;bottom: 0;left: 50%;z-index: 0;}#sk-container-id-1 div.sk-serial {display: flex;flex-direction: column;align-items: center;background-color: white;padding-right: 0.2em;padding-left: 0.2em;position: relative;}#sk-container-id-1 div.sk-item {position: relative;z-index: 1;}#sk-container-id-1 div.sk-parallel {display: flex;align-items: stretch;justify-content: center;background-color: white;position: relative;}#sk-container-id-1 div.sk-item::before, #sk-container-id-1 div.sk-parallel-item::before {content: \"\";position: absolute;border-left: 1px solid gray;box-sizing: border-box;top: 0;bottom: 0;left: 50%;z-index: -1;}#sk-container-id-1 div.sk-parallel-item {display: flex;flex-direction: column;z-index: 1;position: relative;background-color: white;}#sk-container-id-1 div.sk-parallel-item:first-child::after {align-self: flex-end;width: 50%;}#sk-container-id-1 div.sk-parallel-item:last-child::after {align-self: flex-start;width: 50%;}#sk-container-id-1 div.sk-parallel-item:only-child::after {width: 0;}#sk-container-id-1 div.sk-dashed-wrapped {border: 1px dashed gray;margin: 0 0.4em 0.5em 0.4em;box-sizing: border-box;padding-bottom: 0.4em;background-color: white;}#sk-container-id-1 div.sk-label label {font-family: monospace;font-weight: bold;display: inline-block;line-height: 1.2em;}#sk-container-id-1 div.sk-label-container {text-align: center;}#sk-container-id-1 div.sk-container {/* jupyter's `normalize.less` sets `[hidden] { display: none; }` but bootstrap.min.css set `[hidden] { display: none !important; }` so we also need the `!important` here to be able to override the default hidden behavior on the sphinx rendered scikit-learn.org. See: https://github.com/scikit-learn/scikit-learn/issues/21755 */display: inline-block !important;position: relative;}#sk-container-id-1 div.sk-text-repr-fallback {display: none;}</style><div id=\"sk-container-id-1\" class=\"sk-top-container\"><div class=\"sk-text-repr-fallback\"><pre>LinearRegression()</pre><b>In a Jupyter environment, please rerun this cell to show the HTML representation or trust the notebook. <br />On GitHub, the HTML representation is unable to render, please try loading this page with nbviewer.org.</b></div><div class=\"sk-container\" hidden><div class=\"sk-item\"><div class=\"sk-estimator sk-toggleable\"><input class=\"sk-toggleable__control sk-hidden--visually\" id=\"sk-estimator-id-1\" type=\"checkbox\" checked><label for=\"sk-estimator-id-1\" class=\"sk-toggleable__label sk-toggleable__label-arrow\">LinearRegression</label><div class=\"sk-toggleable__content\"><pre>LinearRegression()</pre></div></div></div></div></div>"
      ],
      "text/plain": [
       "LinearRegression()"
      ]
     },
     "execution_count": 8,
     "metadata": {},
     "output_type": "execute_result"
    }
   ],
   "source": [
    "model = LinearRegression()\n",
    "model.fit(X_train,y_train)"
   ]
  },
  {
   "cell_type": "code",
   "execution_count": 9,
   "id": "3aa214b5-ff02-46e4-8bb0-5884eca468e8",
   "metadata": {},
   "outputs": [],
   "source": [
    "y_pred=model.predict(X_test)"
   ]
  },
  {
   "cell_type": "code",
   "execution_count": 10,
   "id": "6970d6a7-2b39-4142-902e-adf262cd64ff",
   "metadata": {},
   "outputs": [
    {
     "name": "stdout",
     "output_type": "stream",
     "text": [
      "R2 Score:  0.988687042966139\n"
     ]
    }
   ],
   "source": [
    "print(\"R2 Score: \", r2_score(y_test,y_pred))"
   ]
  },
  {
   "cell_type": "code",
   "execution_count": 11,
   "id": "8f3f912e-d46c-4ee8-b321-9430e8c52686",
   "metadata": {},
   "outputs": [
    {
     "name": "stdout",
     "output_type": "stream",
     "text": [
      "Mean Squared Error:  112.8927218112822\n"
     ]
    }
   ],
   "source": [
    "print(\"Mean Squared Error: \", mean_squared_error(y_test,y_pred))"
   ]
  },
  {
   "cell_type": "code",
   "execution_count": 12,
   "id": "c07c4246-13a4-43f6-a11e-f12b151d7968",
   "metadata": {},
   "outputs": [],
   "source": [
    "X2, y2 = make_regression(n_features=10,n_samples=100,noise=10,random_state=42)"
   ]
  },
  {
   "cell_type": "code",
   "execution_count": 13,
   "id": "7765bc8c-f3b7-4132-b50e-7a8f42e5b494",
   "metadata": {},
   "outputs": [
    {
     "data": {
      "text/html": [
       "<div>\n",
       "<style scoped>\n",
       "    .dataframe tbody tr th:only-of-type {\n",
       "        vertical-align: middle;\n",
       "    }\n",
       "\n",
       "    .dataframe tbody tr th {\n",
       "        vertical-align: top;\n",
       "    }\n",
       "\n",
       "    .dataframe thead th {\n",
       "        text-align: right;\n",
       "    }\n",
       "</style>\n",
       "<table border=\"1\" class=\"dataframe\">\n",
       "  <thead>\n",
       "    <tr style=\"text-align: right;\">\n",
       "      <th></th>\n",
       "      <th>X1</th>\n",
       "      <th>X2</th>\n",
       "      <th>X3</th>\n",
       "      <th>X4</th>\n",
       "      <th>X5</th>\n",
       "      <th>X6</th>\n",
       "      <th>X7</th>\n",
       "      <th>X8</th>\n",
       "      <th>X9</th>\n",
       "      <th>X10</th>\n",
       "      <th>y</th>\n",
       "    </tr>\n",
       "  </thead>\n",
       "  <tbody>\n",
       "    <tr>\n",
       "      <th>0</th>\n",
       "      <td>-0.926930</td>\n",
       "      <td>-1.430141</td>\n",
       "      <td>1.632411</td>\n",
       "      <td>-3.241267</td>\n",
       "      <td>-1.247783</td>\n",
       "      <td>-1.024388</td>\n",
       "      <td>0.130741</td>\n",
       "      <td>-0.059525</td>\n",
       "      <td>-0.252568</td>\n",
       "      <td>-0.440044</td>\n",
       "      <td>-497.169891</td>\n",
       "    </tr>\n",
       "    <tr>\n",
       "      <th>1</th>\n",
       "      <td>0.202923</td>\n",
       "      <td>0.334457</td>\n",
       "      <td>0.285865</td>\n",
       "      <td>1.547505</td>\n",
       "      <td>-0.387702</td>\n",
       "      <td>1.795878</td>\n",
       "      <td>2.010205</td>\n",
       "      <td>-1.515744</td>\n",
       "      <td>-0.612789</td>\n",
       "      <td>0.658544</td>\n",
       "      <td>423.321832</td>\n",
       "    </tr>\n",
       "    <tr>\n",
       "      <th>2</th>\n",
       "      <td>-0.241236</td>\n",
       "      <td>0.456753</td>\n",
       "      <td>0.342725</td>\n",
       "      <td>-1.251539</td>\n",
       "      <td>1.117296</td>\n",
       "      <td>1.443765</td>\n",
       "      <td>0.447709</td>\n",
       "      <td>0.352055</td>\n",
       "      <td>-0.082151</td>\n",
       "      <td>0.569767</td>\n",
       "      <td>203.267413</td>\n",
       "    </tr>\n",
       "    <tr>\n",
       "      <th>3</th>\n",
       "      <td>0.289775</td>\n",
       "      <td>-1.008086</td>\n",
       "      <td>-2.038125</td>\n",
       "      <td>0.871125</td>\n",
       "      <td>-0.408075</td>\n",
       "      <td>-0.326024</td>\n",
       "      <td>-0.351513</td>\n",
       "      <td>2.075401</td>\n",
       "      <td>1.201214</td>\n",
       "      <td>-1.870792</td>\n",
       "      <td>-192.385151</td>\n",
       "    </tr>\n",
       "    <tr>\n",
       "      <th>4</th>\n",
       "      <td>-0.007973</td>\n",
       "      <td>-0.190339</td>\n",
       "      <td>-1.037246</td>\n",
       "      <td>0.077368</td>\n",
       "      <td>0.538910</td>\n",
       "      <td>-0.861284</td>\n",
       "      <td>-1.382800</td>\n",
       "      <td>1.479944</td>\n",
       "      <td>1.523124</td>\n",
       "      <td>-0.875618</td>\n",
       "      <td>-190.251495</td>\n",
       "    </tr>\n",
       "    <tr>\n",
       "      <th>...</th>\n",
       "      <td>...</td>\n",
       "      <td>...</td>\n",
       "      <td>...</td>\n",
       "      <td>...</td>\n",
       "      <td>...</td>\n",
       "      <td>...</td>\n",
       "      <td>...</td>\n",
       "      <td>...</td>\n",
       "      <td>...</td>\n",
       "      <td>...</td>\n",
       "      <td>...</td>\n",
       "    </tr>\n",
       "    <tr>\n",
       "      <th>95</th>\n",
       "      <td>0.113517</td>\n",
       "      <td>0.588317</td>\n",
       "      <td>-0.151785</td>\n",
       "      <td>1.586017</td>\n",
       "      <td>-1.952088</td>\n",
       "      <td>-1.237815</td>\n",
       "      <td>-0.622700</td>\n",
       "      <td>0.662131</td>\n",
       "      <td>2.133033</td>\n",
       "      <td>0.280992</td>\n",
       "      <td>-161.790696</td>\n",
       "    </tr>\n",
       "    <tr>\n",
       "      <th>96</th>\n",
       "      <td>0.208383</td>\n",
       "      <td>0.640843</td>\n",
       "      <td>1.797687</td>\n",
       "      <td>-0.247177</td>\n",
       "      <td>-0.281100</td>\n",
       "      <td>-0.681984</td>\n",
       "      <td>0.572583</td>\n",
       "      <td>-2.041735</td>\n",
       "      <td>-1.001620</td>\n",
       "      <td>-0.571179</td>\n",
       "      <td>-68.249782</td>\n",
       "    </tr>\n",
       "    <tr>\n",
       "      <th>97</th>\n",
       "      <td>0.496714</td>\n",
       "      <td>0.767435</td>\n",
       "      <td>1.579213</td>\n",
       "      <td>0.647689</td>\n",
       "      <td>-0.234137</td>\n",
       "      <td>1.523030</td>\n",
       "      <td>0.542560</td>\n",
       "      <td>-0.138264</td>\n",
       "      <td>-0.234153</td>\n",
       "      <td>-0.469474</td>\n",
       "      <td>205.699722</td>\n",
       "    </tr>\n",
       "    <tr>\n",
       "      <th>98</th>\n",
       "      <td>-0.049464</td>\n",
       "      <td>2.455300</td>\n",
       "      <td>0.289169</td>\n",
       "      <td>-1.122722</td>\n",
       "      <td>0.492451</td>\n",
       "      <td>0.382410</td>\n",
       "      <td>-0.530997</td>\n",
       "      <td>0.674819</td>\n",
       "      <td>0.166452</td>\n",
       "      <td>-0.637740</td>\n",
       "      <td>50.644065</td>\n",
       "    </tr>\n",
       "    <tr>\n",
       "      <th>99</th>\n",
       "      <td>0.361396</td>\n",
       "      <td>-0.299007</td>\n",
       "      <td>0.087047</td>\n",
       "      <td>-0.035826</td>\n",
       "      <td>0.821903</td>\n",
       "      <td>1.564644</td>\n",
       "      <td>-1.987569</td>\n",
       "      <td>1.538037</td>\n",
       "      <td>-2.619745</td>\n",
       "      <td>0.091761</td>\n",
       "      <td>9.837253</td>\n",
       "    </tr>\n",
       "  </tbody>\n",
       "</table>\n",
       "<p>100 rows × 11 columns</p>\n",
       "</div>"
      ],
      "text/plain": [
       "          X1        X2        X3        X4        X5        X6        X7  \\\n",
       "0  -0.926930 -1.430141  1.632411 -3.241267 -1.247783 -1.024388  0.130741   \n",
       "1   0.202923  0.334457  0.285865  1.547505 -0.387702  1.795878  2.010205   \n",
       "2  -0.241236  0.456753  0.342725 -1.251539  1.117296  1.443765  0.447709   \n",
       "3   0.289775 -1.008086 -2.038125  0.871125 -0.408075 -0.326024 -0.351513   \n",
       "4  -0.007973 -0.190339 -1.037246  0.077368  0.538910 -0.861284 -1.382800   \n",
       "..       ...       ...       ...       ...       ...       ...       ...   \n",
       "95  0.113517  0.588317 -0.151785  1.586017 -1.952088 -1.237815 -0.622700   \n",
       "96  0.208383  0.640843  1.797687 -0.247177 -0.281100 -0.681984  0.572583   \n",
       "97  0.496714  0.767435  1.579213  0.647689 -0.234137  1.523030  0.542560   \n",
       "98 -0.049464  2.455300  0.289169 -1.122722  0.492451  0.382410 -0.530997   \n",
       "99  0.361396 -0.299007  0.087047 -0.035826  0.821903  1.564644 -1.987569   \n",
       "\n",
       "          X8        X9       X10           y  \n",
       "0  -0.059525 -0.252568 -0.440044 -497.169891  \n",
       "1  -1.515744 -0.612789  0.658544  423.321832  \n",
       "2   0.352055 -0.082151  0.569767  203.267413  \n",
       "3   2.075401  1.201214 -1.870792 -192.385151  \n",
       "4   1.479944  1.523124 -0.875618 -190.251495  \n",
       "..       ...       ...       ...         ...  \n",
       "95  0.662131  2.133033  0.280992 -161.790696  \n",
       "96 -2.041735 -1.001620 -0.571179  -68.249782  \n",
       "97 -0.138264 -0.234153 -0.469474  205.699722  \n",
       "98  0.674819  0.166452 -0.637740   50.644065  \n",
       "99  1.538037 -2.619745  0.091761    9.837253  \n",
       "\n",
       "[100 rows x 11 columns]"
      ]
     },
     "execution_count": 13,
     "metadata": {},
     "output_type": "execute_result"
    }
   ],
   "source": [
    "df2 = pd.DataFrame(X2, columns=[\"X1\",\"X2\",\"X3\",\"X4\",\"## Import necessary modules X5\",\"X6\",\"X7\",\"X8\",\"X9\",\"X10\"])\n",
    "df2[\"y\"]=y2\n",
    "df2"
   ]
  },
  {
   "cell_type": "code",
   "execution_count": 14,
   "id": "4a89198f-4dad-44dd-a164-11964985f86d",
   "metadata": {},
   "outputs": [
    {
     "data": {
      "text/plain": [
       "X1     0\n",
       "X2     0\n",
       "X3     0\n",
       "X4     0\n",
       "X5     0\n",
       "X6     0\n",
       "X7     0\n",
       "X8     0\n",
       "X9     0\n",
       "X10    0\n",
       "y      0\n",
       "dtype: int64"
      ]
     },
     "execution_count": 14,
     "metadata": {},
     "output_type": "execute_result"
    }
   ],
   "source": [
    "df2.isnull().sum()"
   ]
  },
  {
   "cell_type": "code",
   "execution_count": 15,
   "id": "f92ae110-0000-455c-bdb4-68b4d15bc905",
   "metadata": {},
   "outputs": [
    {
     "data": {
      "text/html": [
       "<div>\n",
       "<style scoped>\n",
       "    .dataframe tbody tr th:only-of-type {\n",
       "        vertical-align: middle;\n",
       "    }\n",
       "\n",
       "    .dataframe tbody tr th {\n",
       "        vertical-align: top;\n",
       "    }\n",
       "\n",
       "    .dataframe thead th {\n",
       "        text-align: right;\n",
       "    }\n",
       "</style>\n",
       "<table border=\"1\" class=\"dataframe\">\n",
       "  <thead>\n",
       "    <tr style=\"text-align: right;\">\n",
       "      <th></th>\n",
       "      <th>X1</th>\n",
       "      <th>X2</th>\n",
       "      <th>X3</th>\n",
       "      <th>X4</th>\n",
       "      <th>X5</th>\n",
       "      <th>X6</th>\n",
       "      <th>X7</th>\n",
       "      <th>X8</th>\n",
       "      <th>X9</th>\n",
       "      <th>X10</th>\n",
       "      <th>y</th>\n",
       "    </tr>\n",
       "  </thead>\n",
       "  <tbody>\n",
       "    <tr>\n",
       "      <th>count</th>\n",
       "      <td>100.000000</td>\n",
       "      <td>100.000000</td>\n",
       "      <td>100.000000</td>\n",
       "      <td>100.000000</td>\n",
       "      <td>100.000000</td>\n",
       "      <td>100.000000</td>\n",
       "      <td>100.000000</td>\n",
       "      <td>100.000000</td>\n",
       "      <td>100.000000</td>\n",
       "      <td>100.000000</td>\n",
       "      <td>100.000000</td>\n",
       "    </tr>\n",
       "    <tr>\n",
       "      <th>mean</th>\n",
       "      <td>0.003618</td>\n",
       "      <td>0.038018</td>\n",
       "      <td>-0.047772</td>\n",
       "      <td>-0.048511</td>\n",
       "      <td>-0.032549</td>\n",
       "      <td>0.108974</td>\n",
       "      <td>0.058295</td>\n",
       "      <td>0.002578</td>\n",
       "      <td>0.079499</td>\n",
       "      <td>0.031172</td>\n",
       "      <td>12.330695</td>\n",
       "    </tr>\n",
       "    <tr>\n",
       "      <th>std</th>\n",
       "      <td>0.894297</td>\n",
       "      <td>0.904248</td>\n",
       "      <td>0.954652</td>\n",
       "      <td>1.026363</td>\n",
       "      <td>0.976823</td>\n",
       "      <td>1.016550</td>\n",
       "      <td>1.022648</td>\n",
       "      <td>1.047359</td>\n",
       "      <td>1.042712</td>\n",
       "      <td>0.921830</td>\n",
       "      <td>191.496004</td>\n",
       "    </tr>\n",
       "    <tr>\n",
       "      <th>min</th>\n",
       "      <td>-1.918771</td>\n",
       "      <td>-2.423879</td>\n",
       "      <td>-2.696887</td>\n",
       "      <td>-3.241267</td>\n",
       "      <td>-2.211135</td>\n",
       "      <td>-2.198806</td>\n",
       "      <td>-1.987569</td>\n",
       "      <td>-2.301921</td>\n",
       "      <td>-2.619745</td>\n",
       "      <td>-2.650970</td>\n",
       "      <td>-497.169891</td>\n",
       "    </tr>\n",
       "    <tr>\n",
       "      <th>25%</th>\n",
       "      <td>-0.574156</td>\n",
       "      <td>-0.572616</td>\n",
       "      <td>-0.776155</td>\n",
       "      <td>-0.700307</td>\n",
       "      <td>-0.705970</td>\n",
       "      <td>-0.678367</td>\n",
       "      <td>-0.628305</td>\n",
       "      <td>-0.710363</td>\n",
       "      <td>-0.622252</td>\n",
       "      <td>-0.532816</td>\n",
       "      <td>-107.061480</td>\n",
       "    </tr>\n",
       "    <tr>\n",
       "      <th>50%</th>\n",
       "      <td>0.079078</td>\n",
       "      <td>0.094496</td>\n",
       "      <td>0.013466</td>\n",
       "      <td>-0.023125</td>\n",
       "      <td>-0.063027</td>\n",
       "      <td>0.200009</td>\n",
       "      <td>-0.014331</td>\n",
       "      <td>-0.052911</td>\n",
       "      <td>-0.027014</td>\n",
       "      <td>0.064005</td>\n",
       "      <td>13.427669</td>\n",
       "    </tr>\n",
       "    <tr>\n",
       "      <th>75%</th>\n",
       "      <td>0.532233</td>\n",
       "      <td>0.601449</td>\n",
       "      <td>0.530416</td>\n",
       "      <td>0.636509</td>\n",
       "      <td>0.637617</td>\n",
       "      <td>0.853640</td>\n",
       "      <td>0.697232</td>\n",
       "      <td>0.804413</td>\n",
       "      <td>0.815031</td>\n",
       "      <td>0.552765</td>\n",
       "      <td>145.247673</td>\n",
       "    </tr>\n",
       "    <tr>\n",
       "      <th>max</th>\n",
       "      <td>2.526932</td>\n",
       "      <td>2.455300</td>\n",
       "      <td>1.886186</td>\n",
       "      <td>2.560085</td>\n",
       "      <td>2.632382</td>\n",
       "      <td>2.463242</td>\n",
       "      <td>3.852731</td>\n",
       "      <td>2.075401</td>\n",
       "      <td>2.573360</td>\n",
       "      <td>3.078881</td>\n",
       "      <td>466.030476</td>\n",
       "    </tr>\n",
       "  </tbody>\n",
       "</table>\n",
       "</div>"
      ],
      "text/plain": [
       "               X1          X2          X3          X4          X5          X6  \\\n",
       "count  100.000000  100.000000  100.000000  100.000000  100.000000  100.000000   \n",
       "mean     0.003618    0.038018   -0.047772   -0.048511   -0.032549    0.108974   \n",
       "std      0.894297    0.904248    0.954652    1.026363    0.976823    1.016550   \n",
       "min     -1.918771   -2.423879   -2.696887   -3.241267   -2.211135   -2.198806   \n",
       "25%     -0.574156   -0.572616   -0.776155   -0.700307   -0.705970   -0.678367   \n",
       "50%      0.079078    0.094496    0.013466   -0.023125   -0.063027    0.200009   \n",
       "75%      0.532233    0.601449    0.530416    0.636509    0.637617    0.853640   \n",
       "max      2.526932    2.455300    1.886186    2.560085    2.632382    2.463242   \n",
       "\n",
       "               X7          X8          X9         X10           y  \n",
       "count  100.000000  100.000000  100.000000  100.000000  100.000000  \n",
       "mean     0.058295    0.002578    0.079499    0.031172   12.330695  \n",
       "std      1.022648    1.047359    1.042712    0.921830  191.496004  \n",
       "min     -1.987569   -2.301921   -2.619745   -2.650970 -497.169891  \n",
       "25%     -0.628305   -0.710363   -0.622252   -0.532816 -107.061480  \n",
       "50%     -0.014331   -0.052911   -0.027014    0.064005   13.427669  \n",
       "75%      0.697232    0.804413    0.815031    0.552765  145.247673  \n",
       "max      3.852731    2.075401    2.573360    3.078881  466.030476  "
      ]
     },
     "execution_count": 15,
     "metadata": {},
     "output_type": "execute_result"
    }
   ],
   "source": [
    "df2.describe()"
   ]
  },
  {
   "cell_type": "code",
   "execution_count": 16,
   "id": "2168d0c9-3001-43f8-bd67-176d3da19727",
   "metadata": {},
   "outputs": [],
   "source": [
    "X2_train,X2_test,y2_train,y2_test = train_test_split(X2,y2,test_size=0.4,random_state=42)"
   ]
  },
  {
   "cell_type": "code",
   "execution_count": 17,
   "id": "ac6bca5f-3bd1-4d85-b149-aa04807a3b08",
   "metadata": {},
   "outputs": [
    {
     "data": {
      "text/html": [
       "<style>#sk-container-id-2 {color: black;background-color: white;}#sk-container-id-2 pre{padding: 0;}#sk-container-id-2 div.sk-toggleable {background-color: white;}#sk-container-id-2 label.sk-toggleable__label {cursor: pointer;display: block;width: 100%;margin-bottom: 0;padding: 0.3em;box-sizing: border-box;text-align: center;}#sk-container-id-2 label.sk-toggleable__label-arrow:before {content: \"▸\";float: left;margin-right: 0.25em;color: #696969;}#sk-container-id-2 label.sk-toggleable__label-arrow:hover:before {color: black;}#sk-container-id-2 div.sk-estimator:hover label.sk-toggleable__label-arrow:before {color: black;}#sk-container-id-2 div.sk-toggleable__content {max-height: 0;max-width: 0;overflow: hidden;text-align: left;background-color: #f0f8ff;}#sk-container-id-2 div.sk-toggleable__content pre {margin: 0.2em;color: black;border-radius: 0.25em;background-color: #f0f8ff;}#sk-container-id-2 input.sk-toggleable__control:checked~div.sk-toggleable__content {max-height: 200px;max-width: 100%;overflow: auto;}#sk-container-id-2 input.sk-toggleable__control:checked~label.sk-toggleable__label-arrow:before {content: \"▾\";}#sk-container-id-2 div.sk-estimator input.sk-toggleable__control:checked~label.sk-toggleable__label {background-color: #d4ebff;}#sk-container-id-2 div.sk-label input.sk-toggleable__control:checked~label.sk-toggleable__label {background-color: #d4ebff;}#sk-container-id-2 input.sk-hidden--visually {border: 0;clip: rect(1px 1px 1px 1px);clip: rect(1px, 1px, 1px, 1px);height: 1px;margin: -1px;overflow: hidden;padding: 0;position: absolute;width: 1px;}#sk-container-id-2 div.sk-estimator {font-family: monospace;background-color: #f0f8ff;border: 1px dotted black;border-radius: 0.25em;box-sizing: border-box;margin-bottom: 0.5em;}#sk-container-id-2 div.sk-estimator:hover {background-color: #d4ebff;}#sk-container-id-2 div.sk-parallel-item::after {content: \"\";width: 100%;border-bottom: 1px solid gray;flex-grow: 1;}#sk-container-id-2 div.sk-label:hover label.sk-toggleable__label {background-color: #d4ebff;}#sk-container-id-2 div.sk-serial::before {content: \"\";position: absolute;border-left: 1px solid gray;box-sizing: border-box;top: 0;bottom: 0;left: 50%;z-index: 0;}#sk-container-id-2 div.sk-serial {display: flex;flex-direction: column;align-items: center;background-color: white;padding-right: 0.2em;padding-left: 0.2em;position: relative;}#sk-container-id-2 div.sk-item {position: relative;z-index: 1;}#sk-container-id-2 div.sk-parallel {display: flex;align-items: stretch;justify-content: center;background-color: white;position: relative;}#sk-container-id-2 div.sk-item::before, #sk-container-id-2 div.sk-parallel-item::before {content: \"\";position: absolute;border-left: 1px solid gray;box-sizing: border-box;top: 0;bottom: 0;left: 50%;z-index: -1;}#sk-container-id-2 div.sk-parallel-item {display: flex;flex-direction: column;z-index: 1;position: relative;background-color: white;}#sk-container-id-2 div.sk-parallel-item:first-child::after {align-self: flex-end;width: 50%;}#sk-container-id-2 div.sk-parallel-item:last-child::after {align-self: flex-start;width: 50%;}#sk-container-id-2 div.sk-parallel-item:only-child::after {width: 0;}#sk-container-id-2 div.sk-dashed-wrapped {border: 1px dashed gray;margin: 0 0.4em 0.5em 0.4em;box-sizing: border-box;padding-bottom: 0.4em;background-color: white;}#sk-container-id-2 div.sk-label label {font-family: monospace;font-weight: bold;display: inline-block;line-height: 1.2em;}#sk-container-id-2 div.sk-label-container {text-align: center;}#sk-container-id-2 div.sk-container {/* jupyter's `normalize.less` sets `[hidden] { display: none; }` but bootstrap.min.css set `[hidden] { display: none !important; }` so we also need the `!important` here to be able to override the default hidden behavior on the sphinx rendered scikit-learn.org. See: https://github.com/scikit-learn/scikit-learn/issues/21755 */display: inline-block !important;position: relative;}#sk-container-id-2 div.sk-text-repr-fallback {display: none;}</style><div id=\"sk-container-id-2\" class=\"sk-top-container\"><div class=\"sk-text-repr-fallback\"><pre>LinearRegression()</pre><b>In a Jupyter environment, please rerun this cell to show the HTML representation or trust the notebook. <br />On GitHub, the HTML representation is unable to render, please try loading this page with nbviewer.org.</b></div><div class=\"sk-container\" hidden><div class=\"sk-item\"><div class=\"sk-estimator sk-toggleable\"><input class=\"sk-toggleable__control sk-hidden--visually\" id=\"sk-estimator-id-2\" type=\"checkbox\" checked><label for=\"sk-estimator-id-2\" class=\"sk-toggleable__label sk-toggleable__label-arrow\">LinearRegression</label><div class=\"sk-toggleable__content\"><pre>LinearRegression()</pre></div></div></div></div></div>"
      ],
      "text/plain": [
       "LinearRegression()"
      ]
     },
     "execution_count": 17,
     "metadata": {},
     "output_type": "execute_result"
    }
   ],
   "source": [
    "model2=LinearRegression()\n",
    "model2.fit(X2_train,y2_train)"
   ]
  },
  {
   "cell_type": "code",
   "execution_count": 18,
   "id": "65f3f09b-b1b0-4372-a45e-18b8c34c4a2c",
   "metadata": {},
   "outputs": [],
   "source": [
    "y2_pred = model2.predict(X2_test)"
   ]
  },
  {
   "cell_type": "code",
   "execution_count": 19,
   "id": "61440018-4f0e-46b9-8136-122dfbba654a",
   "metadata": {},
   "outputs": [
    {
     "name": "stdout",
     "output_type": "stream",
     "text": [
      "R2 Score:  0.997481517520893\n"
     ]
    }
   ],
   "source": [
    "print(\"R2 Score: \",r2_score(y2_test,y2_pred))"
   ]
  },
  {
   "cell_type": "code",
   "execution_count": 20,
   "id": "283cd840-20ab-46f8-a066-855608721913",
   "metadata": {},
   "outputs": [
    {
     "name": "stdout",
     "output_type": "stream",
     "text": [
      "Mean squared error:  119.90392306545327\n"
     ]
    }
   ],
   "source": [
    "print(\"Mean squared error: \",mean_squared_error(y2_test,y2_pred))"
   ]
  },
  {
   "cell_type": "markdown",
   "id": "eba5c0b9-7414-47aa-ae78-088d63d502b7",
   "metadata": {},
   "source": [
    "## RESULT\n",
    "Higher error (MSE) in a multi-dimensional regression model is expected due to increased model complexity, but better accuracy (R²) suggests the model is capturing more of the target's variance, though overfitting should still be monitored."
   ]
  }
 ],
 "metadata": {
  "kernelspec": {
   "display_name": "Python 3 (ipykernel)",
   "language": "python",
   "name": "python3"
  },
  "language_info": {
   "codemirror_mode": {
    "name": "ipython",
    "version": 3
   },
   "file_extension": ".py",
   "mimetype": "text/x-python",
   "name": "python",
   "nbconvert_exporter": "python",
   "pygments_lexer": "ipython3",
   "version": "3.11.7"
  }
 },
 "nbformat": 4,
 "nbformat_minor": 5
}
