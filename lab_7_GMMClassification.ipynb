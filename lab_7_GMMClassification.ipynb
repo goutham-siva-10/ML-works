{
 "cells": [
  {
   "cell_type": "markdown",
   "id": "d19dce81-de27-4635-bf60-135f2c193448",
   "metadata": {},
   "source": [
    "## LAB 7 - GAUSSIAN MIXTURE MODELS FOR CLASSIFICATION (03.02.2025)"
   ]
  },
  {
   "cell_type": "markdown",
   "id": "8aea5868-6bbf-41fa-8cbf-27e9049ca32a",
   "metadata": {},
   "source": [
    "## AIM\n",
    "\n",
    "To apply Gaussian Mixture models for classification tasks"
   ]
  },
  {
   "cell_type": "markdown",
   "id": "546399eb-e6c8-4c57-b17e-3372e0956bc4",
   "metadata": {},
   "source": [
    "## ALGORITHM\n",
    "\n",
    "1. **Import modules and Load the dataset**\n",
    "- Import all the modules needed to acclomplish the task.\n",
    "- Load the wine dataset which has features 'alcohol','malic_acid','ash','alcalinity_of_ash','magnesium','total_phenols','flavanoids','nonflavanoid_phenols','proanthocyanins','color_intensity','hue','od280/od315_of_diluted_wines','proline'.\n",
    "\n",
    "2. **Create a data frame**\n",
    "   \n",
    "Make the dataset into a DataFrame, including the target variable for clear understanding.\n",
    "\n",
    "3. **Split the data into features and target**\n",
    " - Features (X): The input variables.\n",
    " - Target (y): The output variable (Which class 0,1 or 2 the wine belongs to).\n",
    "\n",
    "\n",
    "4. **Train-Test Split**\n",
    "\n",
    "Split the dataset into a training set and testing set. Use a function like train_test_split() to divide the data.\n",
    "\n",
    "5. **Train the GMM Model for Classification**\n",
    "\n",
    "- Initialize a Gaussian Mixture Model (GMM) for each class with one component (since we treat each class separately as a Gaussian distribution).\n",
    "- Fit a GMM for each class using the training data where the class corresponds to the target labels.\n",
    "\n",
    "6. **Predict Class Labels Using GMM**\n",
    "\n",
    "- For each test sample, compute the log-likelihood for each class's GMM.\n",
    "- Predict the class of each sample based on the highest log-likelihood score.\n",
    "\n",
    "7. **Evaluate the Classification Performance**\n",
    "\n",
    "- Evaluate the model's performance using classification metrics such as accuracy, comparing the predicted labels (y_pred) with the actual labels (y_test).\n",
    "\n",
    "8. **Dimensionality Reduction (PCA) for Visualization**\n",
    "\n",
    "   Use Principal Component Analysis (PCA) to reduce the data's dimensionality from the original feature space (13 dimensions for the wine dataset) to 2 dimensions, making it easier to visualize.\n",
    "\n",
    "9. **Plot the Results**\n",
    "\n",
    "- Create a scatter plot of the reduced 2D data.\n",
    "- Color the data points based on their predicted class labels to visualize how well the GMM classifier differentiated the classes.\n"
   ]
  },
  {
   "cell_type": "markdown",
   "id": "e95f63f9-8755-4f8e-86c5-366d459417cb",
   "metadata": {},
   "source": [
    "## DESCRIPTION\n",
    "A Gaussian Mixture Model (GMM) is a probabilistic model used to represent the presence of subpopulations within an overall population, without requiring the subpopulations to be labeled. It's essentially a combination of multiple Gaussian distributions (normal distributions), each representing a different group or cluster. GMM is a type of unsupervised learning algorithm used for clustering, though it can also be applied to supervised learning tasks like classification."
   ]
  },
  {
   "cell_type": "markdown",
   "id": "d220795c-7c10-41b5-a384-81ec49b34f79",
   "metadata": {},
   "source": [
    "## CODE AND OUTPUT"
   ]
  },
  {
   "cell_type": "code",
   "execution_count": 1,
   "id": "527403c5-ed78-4dff-9ed8-d66fb6a5e079",
   "metadata": {},
   "outputs": [],
   "source": [
    "import numpy as np\n",
    "import pandas as pd\n",
    "from sklearn.datasets import load_wine\n",
    "from sklearn.model_selection import train_test_split\n",
    "from sklearn.metrics import accuracy_score\n",
    "from sklearn.mixture import GaussianMixture\n",
    "from sklearn.decomposition import PCA\n",
    "import matplotlib.pyplot as plt"
   ]
  },
  {
   "cell_type": "code",
   "execution_count": 2,
   "id": "dac8baba-b626-4801-a595-09712593853f",
   "metadata": {},
   "outputs": [
    {
     "data": {
      "text/html": [
       "<div>\n",
       "<style scoped>\n",
       "    .dataframe tbody tr th:only-of-type {\n",
       "        vertical-align: middle;\n",
       "    }\n",
       "\n",
       "    .dataframe tbody tr th {\n",
       "        vertical-align: top;\n",
       "    }\n",
       "\n",
       "    .dataframe thead th {\n",
       "        text-align: right;\n",
       "    }\n",
       "</style>\n",
       "<table border=\"1\" class=\"dataframe\">\n",
       "  <thead>\n",
       "    <tr style=\"text-align: right;\">\n",
       "      <th></th>\n",
       "      <th>alcohol</th>\n",
       "      <th>malic_acid</th>\n",
       "      <th>ash</th>\n",
       "      <th>alcalinity_of_ash</th>\n",
       "      <th>magnesium</th>\n",
       "      <th>total_phenols</th>\n",
       "      <th>flavanoids</th>\n",
       "      <th>nonflavanoid_phenols</th>\n",
       "      <th>proanthocyanins</th>\n",
       "      <th>color_intensity</th>\n",
       "      <th>hue</th>\n",
       "      <th>od280/od315_of_diluted_wines</th>\n",
       "      <th>proline</th>\n",
       "      <th>Wine Class</th>\n",
       "    </tr>\n",
       "  </thead>\n",
       "  <tbody>\n",
       "    <tr>\n",
       "      <th>0</th>\n",
       "      <td>14.23</td>\n",
       "      <td>1.71</td>\n",
       "      <td>2.43</td>\n",
       "      <td>15.6</td>\n",
       "      <td>127.0</td>\n",
       "      <td>2.80</td>\n",
       "      <td>3.06</td>\n",
       "      <td>0.28</td>\n",
       "      <td>2.29</td>\n",
       "      <td>5.64</td>\n",
       "      <td>1.04</td>\n",
       "      <td>3.92</td>\n",
       "      <td>1065.0</td>\n",
       "      <td>0</td>\n",
       "    </tr>\n",
       "    <tr>\n",
       "      <th>1</th>\n",
       "      <td>13.20</td>\n",
       "      <td>1.78</td>\n",
       "      <td>2.14</td>\n",
       "      <td>11.2</td>\n",
       "      <td>100.0</td>\n",
       "      <td>2.65</td>\n",
       "      <td>2.76</td>\n",
       "      <td>0.26</td>\n",
       "      <td>1.28</td>\n",
       "      <td>4.38</td>\n",
       "      <td>1.05</td>\n",
       "      <td>3.40</td>\n",
       "      <td>1050.0</td>\n",
       "      <td>0</td>\n",
       "    </tr>\n",
       "    <tr>\n",
       "      <th>2</th>\n",
       "      <td>13.16</td>\n",
       "      <td>2.36</td>\n",
       "      <td>2.67</td>\n",
       "      <td>18.6</td>\n",
       "      <td>101.0</td>\n",
       "      <td>2.80</td>\n",
       "      <td>3.24</td>\n",
       "      <td>0.30</td>\n",
       "      <td>2.81</td>\n",
       "      <td>5.68</td>\n",
       "      <td>1.03</td>\n",
       "      <td>3.17</td>\n",
       "      <td>1185.0</td>\n",
       "      <td>0</td>\n",
       "    </tr>\n",
       "    <tr>\n",
       "      <th>3</th>\n",
       "      <td>14.37</td>\n",
       "      <td>1.95</td>\n",
       "      <td>2.50</td>\n",
       "      <td>16.8</td>\n",
       "      <td>113.0</td>\n",
       "      <td>3.85</td>\n",
       "      <td>3.49</td>\n",
       "      <td>0.24</td>\n",
       "      <td>2.18</td>\n",
       "      <td>7.80</td>\n",
       "      <td>0.86</td>\n",
       "      <td>3.45</td>\n",
       "      <td>1480.0</td>\n",
       "      <td>0</td>\n",
       "    </tr>\n",
       "    <tr>\n",
       "      <th>4</th>\n",
       "      <td>13.24</td>\n",
       "      <td>2.59</td>\n",
       "      <td>2.87</td>\n",
       "      <td>21.0</td>\n",
       "      <td>118.0</td>\n",
       "      <td>2.80</td>\n",
       "      <td>2.69</td>\n",
       "      <td>0.39</td>\n",
       "      <td>1.82</td>\n",
       "      <td>4.32</td>\n",
       "      <td>1.04</td>\n",
       "      <td>2.93</td>\n",
       "      <td>735.0</td>\n",
       "      <td>0</td>\n",
       "    </tr>\n",
       "  </tbody>\n",
       "</table>\n",
       "</div>"
      ],
      "text/plain": [
       "   alcohol  malic_acid   ash  alcalinity_of_ash  magnesium  total_phenols  \\\n",
       "0    14.23        1.71  2.43               15.6      127.0           2.80   \n",
       "1    13.20        1.78  2.14               11.2      100.0           2.65   \n",
       "2    13.16        2.36  2.67               18.6      101.0           2.80   \n",
       "3    14.37        1.95  2.50               16.8      113.0           3.85   \n",
       "4    13.24        2.59  2.87               21.0      118.0           2.80   \n",
       "\n",
       "   flavanoids  nonflavanoid_phenols  proanthocyanins  color_intensity   hue  \\\n",
       "0        3.06                  0.28             2.29             5.64  1.04   \n",
       "1        2.76                  0.26             1.28             4.38  1.05   \n",
       "2        3.24                  0.30             2.81             5.68  1.03   \n",
       "3        3.49                  0.24             2.18             7.80  0.86   \n",
       "4        2.69                  0.39             1.82             4.32  1.04   \n",
       "\n",
       "   od280/od315_of_diluted_wines  proline  Wine Class  \n",
       "0                          3.92   1065.0           0  \n",
       "1                          3.40   1050.0           0  \n",
       "2                          3.17   1185.0           0  \n",
       "3                          3.45   1480.0           0  \n",
       "4                          2.93    735.0           0  "
      ]
     },
     "execution_count": 2,
     "metadata": {},
     "output_type": "execute_result"
    }
   ],
   "source": [
    "data=load_wine()\n",
    "df = pd.DataFrame(data=data.data, columns=data.feature_names)\n",
    "df[\"Wine Class\"]=data.target\n",
    "df.head()"
   ]
  },
  {
   "cell_type": "code",
   "execution_count": 3,
   "id": "b3bfd5ba-650e-41e9-86d5-f1e3c6ba274f",
   "metadata": {},
   "outputs": [],
   "source": [
    "X = df.drop([\"Wine Class\"],axis=1)\n",
    "y = df[\"Wine Class\"]"
   ]
  },
  {
   "cell_type": "code",
   "execution_count": 4,
   "id": "f58e0b51-b852-4813-a22e-475009aeca7b",
   "metadata": {},
   "outputs": [],
   "source": [
    "X_train,X_test,y_train,y_test = train_test_split(X,y,random_state=42,test_size=0.4)"
   ]
  },
  {
   "cell_type": "code",
   "execution_count": 5,
   "id": "79e7b7f6-dcba-45a1-9d27-f19655028b76",
   "metadata": {},
   "outputs": [],
   "source": [
    "gmm_models = {}\n",
    "for class_label in np.unique(y_train):\n",
    "    class_data = X_train[y_train==class_label]\n",
    "    gmm = GaussianMixture(n_components = 1, random_state=42)\n",
    "    gmm.fit(class_data)\n",
    "\n",
    "    gmm_models[class_label]=gmm"
   ]
  },
  {
   "cell_type": "code",
   "execution_count": null,
   "id": "ebc077ca-aa97-4a53-ad49-fd844457aab0",
   "metadata": {},
   "outputs": [],
   "source": [
    "y_pred = []\n",
    "\n",
    "for x in X_test.values:\n",
    "    \n",
    "    class_likelihoods = {class_label: gmm_models[class_label].score_samples([x])[0] for class_label in gmm_models}\n",
    "\n",
    "    predicted_class = max(class_likelihoods, key=class_likelihoods.get)\n",
    "    y_pred.append(predicted_class)"
   ]
  },
  {
   "cell_type": "code",
   "execution_count": 7,
   "id": "5a00a90e-cc74-45ad-aa81-23ad17a5d049",
   "metadata": {},
   "outputs": [
    {
     "name": "stdout",
     "output_type": "stream",
     "text": [
      "Classification accuracy:  0.9722222222222222\n"
     ]
    }
   ],
   "source": [
    "print(\"Classification accuracy: \", accuracy_score(y_test, y_pred))"
   ]
  },
  {
   "cell_type": "code",
   "execution_count": 8,
   "id": "2c0da2be-6dbd-4e47-b88b-b4d70bfb77b7",
   "metadata": {},
   "outputs": [
    {
     "data": {
      "image/png": "[encoded data removed]",
      "text/plain": [
       "<Figure size 640x480 with 2 Axes>"
      ]
     },
     "metadata": {},
     "output_type": "display_data"
    }
   ],
   "source": [
    "pca = PCA(n_components=2)\n",
    "X_pca=pca.fit_transform(X_test)\n",
    "\n",
    "plt.scatter(X_pca[:,0],X_pca[:,1],c=y_pred,cmap='viridis',marker='o')\n",
    "plt.xlabel(\"PC1\")\n",
    "plt.ylabel(\"PC2\")\n",
    "plt.colorbar(label=\"Class Labels\")\n",
    "plt.show()"
   ]
  },
  {
   "cell_type": "markdown",
   "id": "165102c0-d67d-403a-9718-f7cffeab2c91",
   "metadata": {},
   "source": [
    "## Result\n",
    "The Gaussian Mixture Model (GMM) classifier achieves an accuracy of 97.72% by fitting a GMM for each class and predicting the class of test samples based on the highest log likelihood."
   ]
  }
 ],
 "metadata": {
  "kernelspec": {
   "display_name": "Python 3 (ipykernel)",
   "language": "python",
   "name": "python3"
  },
  "language_info": {
   "codemirror_mode": {
    "name": "ipython",
    "version": 3
   },
   "file_extension": ".py",
   "mimetype": "text/x-python",
   "name": "python",
   "nbconvert_exporter": "python",
   "pygments_lexer": "ipython3",
   "version": "3.11.7"
  }
 },
 "nbformat": 4,
 "nbformat_minor": 5
}
